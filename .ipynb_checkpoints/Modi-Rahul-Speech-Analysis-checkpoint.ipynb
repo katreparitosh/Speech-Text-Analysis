{
 "cells": [
  {
   "cell_type": "code",
   "execution_count": 1,
   "metadata": {},
   "outputs": [],
   "source": [
    "import nltk"
   ]
  },
  {
   "cell_type": "code",
   "execution_count": 2,
   "metadata": {},
   "outputs": [],
   "source": [
    "modi = open(\"A:\\\\Data Analysis Jupyter\\\\Speech-Analysis\\\\modibihar.txt\", \"r\")"
   ]
  },
  {
   "cell_type": "code",
   "execution_count": 3,
   "metadata": {},
   "outputs": [],
   "source": [
    "modiTxt = modi.read()"
   ]
  },
  {
   "cell_type": "code",
   "execution_count": 4,
   "metadata": {},
   "outputs": [],
   "source": [
    "from string import punctuation\n",
    "from nltk.corpus import stopwords"
   ]
  },
  {
   "cell_type": "code",
   "execution_count": 5,
   "metadata": {},
   "outputs": [
    {
     "name": "stdout",
     "output_type": "stream",
     "text": [
      "bharat mata ki jai bharat mata ki jai also large number partners vaishali hajipur grateful brothers sisters listening nitish kumar way mothers sisters welcoming scenes may seen bihar salute mothers sisters specially number people come bless us sweet city sweetie sweet sweetener going create bitterness many peoples mouth four phases elections people become dying four next steps decide big defeat grand victory nda bjp nda workers firmly held every booth people house promoting servant even seeing victory nda every person desperate contribute victory understand winds direction brothers wave ridiculous wave challenge modi government constant efforts nda leaders nido paswan sushil ji nda efforts nda bihar hardly left behind old phase changed identity great land fighting make central government election staggering way increase number members cautioning people bihar aim enhancing strength bring back bihar day looting increasing power means kidnapping daughters felony murder corruption every scheme increasing power means imprisonment home sun sets choking getting forced flee forced flee bihar given people today people turned vicious vision bihar bihar dividing bihar caste want prove selfishness sharing society want hide corruption black exploits goal way weak loose shield delhi becomes weak government arbitrary jail door jail bell hanging round court bell centers want stand strong government even minute dear friends matter much effort made campaign black money corruption run speed slow large shopping malls stood form house also accounted return one lump poor way michelle mama picked picking rest also come india want hide black exploit goal way weak loose shield delhi becomes weak government arbitrary jail door jail bell hanging round court bell centers want stand strong government even minute dear friends matter much effort made campaign black money corruption run speed slow large shopping malls stood form house also accounted return one lump poor way michelle mama picked picking rest also come india want hide black exploit goal way weak loose shield delhi becomes weak government arbitrary jail door jail bell hanging round court bell centers want stand strong government even minute dear friends matter much effort made campaign black money corruption run speed slow large shopping malls stood form house also accounted return one lump poor way michelle mama picked picking rest also come india hanging round court bell centers want stand strong government even minute dear friends matter much effort made campaign black money corruption run speed slow large shopping malls stood form house also accounted return one lump poor way michelle mama picked picking rest also come india hanging round court bell centers want stand strong government even minute dear friends matter much effort made campaign black money corruption run speed slow large shopping malls stood form house also accounted return one lump poor way michelle mama picked picking rest also come india past five years people forced take bell bail transported complete preparation send prison important understand intentions brothers sisters selfinterest devoted interests pay attention matter many mahmilavati groups fighting even seats get post leader opposition lok sabha rule becoming leader opposition win percent lok sabha seats people country could become leader congress even congress give seats days fight going congressmen thought could even become leader opposition five years one formed also engaged pulling people masses brothers sisters position leader opposition dreaming becoming prime minister companions nothing power country even people concerned beauty security people country remember day big cities country sometimes trains market sometimes bus sometimes temple sometimes railway stations used bombarded time bomb blast congress partners behave like weak people remember also terrorism flourishes blossoms one survives one remains safe caste anybodys cult person safe times bomb blasts railway station time bomb blast congress partners behave like weak people remember also terrorism flourishes blossoms one survives one remains safe caste anybodys cult person safe times bomb blasts railway station time bomb blast congress partners behave like weak people remember also terrorism flourishes blossoms one survives one remains safe caste anybodys cult person safe last five years security agencies kept false intentions great effort sons intentions search opportunity get chance continue plan plans attack keep finishing plans daily battle terror threat india terrorism could thought sri lanka would kill people income day therefore government country needs committed overthrow terrorism root every force spreading violence country brothers tell tell eliminate terrorism mothers sisters tell true blessing seen power taking biggest blow terrorism naxalism seen companions wherever within country wherever panterrorism violencespreading factory target watchman wherever india risk enter house kill decided seniors ndas policy clear policy protecting protecting country major parties know ever tell said word rally worry safety brothers sisters history say anything terrorism hearing pakistans name feet start trembling government starts run reason allergic name surgical strikes air strikes sleep becomes stunned concerned modi done questions give sleep therefore nations also scared talk defense brothers sisters land also falling apart five years brought development everyone together people villagevillage taken poor house reservation poor youth general category great effort social harmony groups right seized given obc commission constitutional status despite oppositions opposition say proudly came land muzaffarpur today proudly say holy land lord lal sahni first chairman made given say proudly came land muzaffarpur today proudly say holy land lord lal sahni first chairman made given say proudly came land muzaffarpur today proudly say holy land lord lal sahni first chairman made friends taken country red light culture villagers poor poor illuminated led bulb milky light us red light went light poor burning house capital worked provide free treatment five lakh rupees poor sell home treatment worked villages villages give toilets home poor sisters respect worked deliver connection free lpg poor sister poor mother spent life full age given freedom mothers sisters mother blessing taken initiative provide poor home never dreamed home dream sisters got facilities congratulate heart met also believe modi promise sure going give everyone resolved every poor house farmers started collecting money directly account may results elections come results elections held may modi government modi government election result modi government come going give facility farmers bihar limit acres today removed farmers get benefit similarly partner associated business fish already given facility kisan credit card separate ministry fish farming decided make separate department litchi treatment plant also set convenience litchi producing farmers friends small farmer farm laborer small shopkeeper everyone gets regular pension age years also going make arrangements traders decided create national commission first time also taken resolution providing accident insurance rs lakh gst registered traders businessmen also making serious efforts strengthen infrastructures brothers sisters muzaffarpur vaishali several projects related road rail air traffic running knowing airport soon start giving regular services brotherssisters work fulfilled honest strong government delhi strong government formed people fellow mujaffarpur people lotus imprint people vaishali bangla impression people sitamarhi vote arrows three one vote lotus imprint go modis account vote bengali imprint modi go jaeg vote arrow impression go modi go vote go modis account brothers sisters come large number blessed us request vote advance like nitish ji told voting refreshment take mantra go speak jai bharat mata jai bharat mata jai bharat mata like nitish ji told voting refreshment take mantra people speak jai bharat mata jai bharat mata jai bharat mata like nitish ji told voting refreshment take mantra people speak jai bharat mata jai bharat mata jai bharat mata thank much\n"
     ]
    }
   ],
   "source": [
    "txtModi = ''.join(c for c in modiTxt if not c.isdigit())\n",
    "txtModi = ''.join(c for c in txtModi if c not in punctuation).lower()\n",
    "txtModi = ' '.join([word for word in txtModi.split() if word not in (stopwords.words('english'))])\n",
    "txtModi = ' '.join([word for word in txtModi.split() if word != \"applause\"])\n",
    "print(txtModi)"
   ]
  },
  {
   "cell_type": "code",
   "execution_count": 6,
   "metadata": {},
   "outputs": [
    {
     "name": "stdout",
     "output_type": "stream",
     "text": [
      "excellency sheikh khalifa suman baby ji dr thomas abraham ji sunny kulathakal ji neeraj bakshi ji issac john ji sam pitroda ji congress friends brothers sisters would like welcome today honor come remember little boy chemistry teacher chemistry teacher worked bahrain used keep telling one day must go bahrain see done bahrain told indian person bahrain always felt accepted always felt part country never felt discriminated would like thank people bahrain also said indian community played huge role helping build bahrain joint effort something proud honor come address great country would like thank global organization people indian origin gopio invitation speak happy excited talk got one little question everybody know hindi everybody understands hindi parts speech hindi want know make couple translations help people dont know hindi know indian politics quite strange experience youve got sashi tharoor ji sam pitroda hibi ji strange experience come across many different things would like start little story politics years would like start little story uttar pradesh… years ago travelling uttar pradesh dusty road quite tired entered market place entered market place lady came running said mujhe logon ne barbad kar diya hai people destroyed life said destroyed life kisne aapki zindagi barbaad ki policewaalon ne police destroyed life said kyu said put case husband ka case laga diya hai dont know murder case india uttar pradesh many many people get false cases put felt complaining false case policeman standing next asked said putting false case poor lady look matter please check happened said strange look face surprised look suspicious got suspicious turned around asked lady behenji kya aapke pati ne khoon kiya hai sister husband actually murdered someone said haan khoon toh kiya hai yes murdered someone said saying telling help husband murdered someone looks hindi says toh phir tum raajnetaon ka kya faayda politicians type expectations asked two questions day looked asked phir tum rajneta idhar kyoon chakkar kat rahe hotum rajnetaon ka kya fayda hai since day wherever go try answer two important questions phir tum rajneta log idhar kyoon chakkar kat rahe ho rajnetaon ka kya fayda hai two questions going answer trying achieve today bahrain time tell mean country important tell serious problem home tell part solution build bridge wherever world home represent congress party india party born bring people india together bring people communities religions together mission beginning us politics mission till end congresss vision one builds bridges compassionate tried tested vision fought india toughest moments vision struggle victory indias liberation vision strong roots nri community people forget greatest leaders whether mahatma gandhi ji whether jawaharlal nehru ji whether mr ambedkar nris little hundred years ago great man mahatma gandhi returned india south africa wasnt alone stood close knit group visionaries one giant right together inspired world generations beyond helped build indian vision vision one community one caste one state vision entire country vision appreciated every single person planet important thing human knows comes come come brave visionary men women delivered india freedom idea challenging british ruled india centuries came people like mahatma gandhi came people like ambedkar ji nris people like open outside world like lived abroad seen shortcomings oppressors lived abroad worked studied watchedand time right country needed returned fight nation loved india today free threat two clear threats facing country today first governments inability provide jobs people main competitor china produces jobs every hours india currently produces jobs amount time important figure put another way china two days takes india one year figures figures govt india figures stated minister parliament job creation india year low new investments lowest years bank credit growth sunk year low make matters worse many indian diaspora lost hardearned money arbitrary decisions like demonetization landed crippling blow indias overall economic growth fact india simply afford second populous country world every day new youngsters come indias job market providing education jobs youngsters recipe disaster governments failure create jobs resulting tremendous anger unrest india youth asking simple question future anger visible streets rising rapidly tragedy instead focusing attention people critical removal poverty job creation building world class education system see instead rise forces hatred division instead accepting struggling create jobs instead uniting people together communities religions face challenge government busy converting fear generated jobless youth hatred communities tragically conversation country today jobs healthcare education today thing india talks allowed eat allowed protest say rather cannot say activists journalists threatened shot dead expressing views people killed religious beliefs dalits beaten submission judges investigating sensitive cases die mysterious circumstances government nothing say friends india taken path progress indians home abroadare shocked see ugly effort seeks deviate us ancient philosophy path country followed thousands years fight without fight return us beloved ideals openness skills talent tolerance patriotism india needs today shown us world built countries journeyed lived people different nationalities different religions different philosophies done learning teaching great indian traditions heritage india today largest diaspora country world million people indian origin live abroad countries gulf region among indias important trading partners largest numbers indian expats live india also largest remittancereceiving country world send almost billion indias gdp responsible creating massive wealth globally giving back three times fair share india year gulf nris send back half remittances india gets around world many ancestors came foreign lands nothing dreams came empty handed dreams built entire nations room proof india bridge gap put global vision india built without impossible let state stage impossible build global vision india st century without brothers sisters live abroad together must steer india back original strengths need make india centrepiece ahimsa non violence compassion need bring conversation back violence hatred one progress jobs love people cannot home without largest skill base planet people room come tell anything really ive come ask help ive come ask skills guidance understanding need help us fight forces anger hatred need needed ancestors needed protect idea india dearly love cherish thank\n"
     ]
    }
   ],
   "source": [
    "rahul = open(\"A:\\\\Data Analysis Jupyter\\\\Speech-Analysis\\\\rahulbahrain.txt\", \"r\")\n",
    "rahulTxt = rahul.read()\n",
    "txtRahul = ''.join(c for c in rahulTxt if not c.isdigit())\n",
    "txtRahul = ''.join(c for c in txtRahul if c not in punctuation).lower()\n",
    "txtRahul = ''.join(c for c in txtRahul if c !=  \"–\" )\n",
    "txtRahul = ''.join(c for c in txtRahul if c !=  \"’\" )\n",
    "txtRahul = ''.join(c for c in txtRahul if c !=  \"“\" )\n",
    "txtRahul = ''.join(c for c in txtRahul if c !=  \"”\" )\n",
    "txtRahul = ' '.join([word for word in txtRahul.split() if word not in (stopwords.words('english'))])\n",
    "\n",
    "print(txtRahul)"
   ]
  },
  {
   "cell_type": "code",
   "execution_count": 9,
   "metadata": {},
   "outputs": [
    {
     "name": "stdout",
     "output_type": "stream",
     "text": [
      "[nltk_data] Downloading package punkt to\n",
      "[nltk_data]     C:\\Users\\hp\\AppData\\Roaming\\nltk_data...\n",
      "[nltk_data]   Package punkt is already up-to-date!\n"
     ]
    },
    {
     "data": {
      "text/plain": [
       "True"
      ]
     },
     "execution_count": 9,
     "metadata": {},
     "output_type": "execute_result"
    }
   ],
   "source": [
    "nltk.download('punkt')"
   ]
  },
  {
   "cell_type": "code",
   "execution_count": 14,
   "metadata": {},
   "outputs": [],
   "source": [
    "import math\n",
    "from textblob import TextBlob as tb\n",
    "import pandas as pd"
   ]
  },
  {
   "cell_type": "code",
   "execution_count": 19,
   "metadata": {},
   "outputs": [],
   "source": [
    "def tf(word, doc):\n",
    "    lenOfDoc = len(doc.words)\n",
    "    if lenOfDoc < 1: \n",
    "        return 0\n",
    "    else: \n",
    "        return doc.words.count(word) / lenOfDoc"
   ]
  },
  {
   "cell_type": "code",
   "execution_count": 18,
   "metadata": {},
   "outputs": [],
   "source": [
    "def contains(word, docs):\n",
    "    return sum(1 for doc in docs if word in doc.words)"
   ]
  },
  {
   "cell_type": "code",
   "execution_count": 17,
   "metadata": {},
   "outputs": [],
   "source": [
    "def idf(word, docs):\n",
    "    docsCount = contains(word, docs)\n",
    "    if docsCount < 1 : return 0\n",
    "    else: return math.log(len(docs) / docsCount)"
   ]
  },
  {
   "cell_type": "code",
   "execution_count": 16,
   "metadata": {},
   "outputs": [],
   "source": [
    "def tfidf(word, doc, docs):\n",
    "    return tf(word,doc) * idf(word, docs)"
   ]
  },
  {
   "cell_type": "code",
   "execution_count": 21,
   "metadata": {},
   "outputs": [],
   "source": [
    "docRahul = tb(txtRahul)\n",
    "docModi = tb(txtModi)\n",
    "docs = [docRahul,docModi]\n",
    "docs_name = [\"Rahul's speech\", \"Modi's speech\"]"
   ]
  },
  {
   "cell_type": "code",
   "execution_count": 23,
   "metadata": {},
   "outputs": [],
   "source": [
    "import matplotlib\n",
    "from nltk.probability import FreqDist\n",
    "import matplotlib.pyplot as plt"
   ]
  },
  {
   "cell_type": "code",
   "execution_count": 24,
   "metadata": {},
   "outputs": [
    {
     "name": "stdout",
     "output_type": "stream",
     "text": [
      "Top words in document Rahul's speech\n",
      "\tWord: indian, TF-IDF: 0.0064\n",
      "\tWord: world, TF-IDF: 0.0064\n",
      "\tWord: jobs, TF-IDF: 0.00569\n"
     ]
    },
    {
     "data": {
      "image/png": "[encoded data removed]",
      "text/plain": [
       "<Figure size 1152x648 with 1 Axes>"
      ]
     },
     "metadata": {
      "needs_background": "light"
     },
     "output_type": "display_data"
    },
    {
     "name": "stdout",
     "output_type": "stream",
     "text": [
      "Top words in document Modi's speech\n",
      "\tWord: bharat, TF-IDF: 0.00632\n",
      "\tWord: mata, TF-IDF: 0.00632\n",
      "\tWord: jai, TF-IDF: 0.00632\n"
     ]
    },
    {
     "data": {
      "image/png": "[encoded data removed]",
      "text/plain": [
       "<Figure size 1152x648 with 1 Axes>"
      ]
     },
     "metadata": {
      "needs_background": "light"
     },
     "output_type": "display_data"
    }
   ],
   "source": [
    "for i, doc in enumerate(docs):\n",
    "    print(\"Top words in document {}\".format(docs_name[i]))\n",
    "    scores = {word: tfidf(word, doc, docs) for word in doc.words}\n",
    "    sorted_words = sorted(scores.items(), key=lambda x: x[1], reverse=True)\n",
    "    for word, score in sorted_words[:3]:\n",
    "        print(\"\\tWord: {}, TF-IDF: {}\".format(word, round(score, 5)))\n",
    "    # Get Frequency distribution\n",
    "    count_frame = pd.DataFrame(scores, index =[0]).T\n",
    "    count_frame.columns = ['Count']\n",
    "    # Plot frequency\n",
    "    counts = count_frame.sort_values('Count', ascending = False)\n",
    "    fig = plt.figure(figsize=(16, 9))\n",
    "    ax = fig.gca()    \n",
    "    counts['Count'][:10].plot(kind = 'bar', ax = ax)\n",
    "    ax.set_title('Frequency of the most common words')\n",
    "    ax.set_ylabel('Frequency of word')\n",
    "    ax.set_xlabel('Word')\n",
    "    ax.\n",
    "    plt.show()"
   ]
  },
  {
   "cell_type": "code",
   "execution_count": 35,
   "metadata": {},
   "outputs": [
    {
     "name": "stdout",
     "output_type": "stream",
     "text": [
      "s\n",
      "a\n",
      "m\n",
      "p\n",
      "l\n",
      "e\n",
      " \n",
      "s\n",
      "t\n",
      "r\n",
      "i\n",
      "n\n",
      "g\n",
      " \n",
      "w\n",
      "i\n",
      "t\n",
      "h\n",
      " \n",
      " \n",
      "n\n",
      "u\n",
      "m\n",
      "b\n",
      "e\n",
      "r\n"
     ]
    }
   ],
   "source": [
    "str = \"sample string with 123 number\"\n",
    "for c in str:\n",
    "   if not c.isdigit():\n",
    "     print(c)"
   ]
  }
 ],
 "metadata": {
  "kernelspec": {
   "display_name": "Python 3",
   "language": "python",
   "name": "python3"
  },
  "language_info": {
   "codemirror_mode": {
    "name": "ipython",
    "version": 3
   },
   "file_extension": ".py",
   "mimetype": "text/x-python",
   "name": "python",
   "nbconvert_exporter": "python",
   "pygments_lexer": "ipython3",
   "version": "3.7.0"
  }
 },
 "nbformat": 4,
 "nbformat_minor": 2
}
