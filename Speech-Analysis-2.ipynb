{
 "cells": [
  {
   "cell_type": "code",
   "execution_count": 4,
   "metadata": {},
   "outputs": [],
   "source": [
    "import matplotlib.pyplot as plt \n",
    "import pandas as pd\n",
    "import numpy as np\n",
    "import re\n",
    "import string\n",
    "import difflib\n",
    "from collections import Counter\n",
    "from nltk.tokenize import sent_tokenize\n",
    "from textblob import TextBlob\n",
    "import warnings   "
   ]
  },
  {
   "cell_type": "code",
   "execution_count": 10,
   "metadata": {},
   "outputs": [],
   "source": [
    "warnings.filterwarnings(\"ignore\", category=DeprecationWarning, module=\"pandas\", lineno=570)"
   ]
  },
  {
   "cell_type": "code",
   "execution_count": 6,
   "metadata": {},
   "outputs": [],
   "source": [
    "match_pattern = re.findall(r'\\b[a-z]{5,15}\\b', open('A:\\\\Data Analysis Jupyter\\\\Speech-Analysis\\\\modibihar.txt').read().lower())"
   ]
  },
  {
   "cell_type": "code",
   "execution_count": 7,
   "metadata": {},
   "outputs": [],
   "source": [
    "match_count = Counter(match_pattern).most_common(5)"
   ]
  },
  {
   "cell_type": "code",
   "execution_count": 8,
   "metadata": {},
   "outputs": [
    {
     "data": {
      "text/plain": [
       "[('their', 25),\n",
       " ('people', 23),\n",
       " ('government', 17),\n",
       " ('sisters', 14),\n",
       " ('these', 14)]"
      ]
     },
     "execution_count": 8,
     "metadata": {},
     "output_type": "execute_result"
    }
   ],
   "source": [
    "match_count"
   ]
  },
  {
   "cell_type": "code",
   "execution_count": 11,
   "metadata": {},
   "outputs": [
    {
     "data": {
      "image/png": "[encoded data removed]",
      "text/plain": [
       "<Figure size 720x360 with 1 Axes>"
      ]
     },
     "metadata": {
      "needs_background": "light"
     },
     "output_type": "display_data"
    }
   ],
   "source": [
    "# sort in-place from highest to lowest\n",
    "match_count.sort(key=lambda x: x[1], reverse=True) \n",
    "\n",
    "# save the names and their respective scores separately\n",
    "# reverse the tuples to go from most frequent to least frequent \n",
    "people = list(zip(*match_count))[0]\n",
    "score = list(zip(*match_count))[1]\n",
    "x_pos = np.arange(len(people)) \n",
    "\n",
    "plt.bar(x_pos, score, align='center', color='teal')\n",
    "fig = plt.gcf()\n",
    "fig.set_size_inches(10, 5)\n",
    "plt.xticks(x_pos, people) \n",
    "plt.title(\"Five most popular influencer words (5-15 letters in length)\")\n",
    "plt.xlabel('Word')\n",
    "plt.ylabel('Count')\n",
    "plt.show()"
   ]
  },
  {
   "cell_type": "code",
   "execution_count": 12,
   "metadata": {},
   "outputs": [],
   "source": [
    "modi_text = open(\"modibihar.txt\").read().lower()\n",
    "modi_sentences = sent_tokenize(modi_text)\n",
    "modi_sent_clean = [x for x in modi_sentences if not any(c.isdigit() for c in x)]"
   ]
  },
  {
   "cell_type": "code",
   "execution_count": 15,
   "metadata": {},
   "outputs": [],
   "source": [
    "testimonial = TextBlob(modi_text)"
   ]
  },
  {
   "cell_type": "code",
   "execution_count": 16,
   "metadata": {},
   "outputs": [
    {
     "data": {
      "text/plain": [
       "Sentiment(polarity=0.06864191364191362, subjectivity=0.4965171287046287)"
      ]
     },
     "execution_count": 16,
     "metadata": {},
     "output_type": "execute_result"
    }
   ],
   "source": [
    "testimonial.sentiment"
   ]
  },
  {
   "cell_type": "code",
   "execution_count": 17,
   "metadata": {},
   "outputs": [
    {
     "data": {
      "text/plain": [
       "[('bharat mata', 9),\n",
       " ('strong government', 7),\n",
       " ('dear friends', 5),\n",
       " ('black money', 5),\n",
       " ('form house', 5)]"
      ]
     },
     "execution_count": 17,
     "metadata": {},
     "output_type": "execute_result"
    }
   ],
   "source": [
    "Counter(testimonial.noun_phrases).most_common(5)"
   ]
  },
  {
   "cell_type": "code",
   "execution_count": 18,
   "metadata": {},
   "outputs": [
    {
     "data": {
      "text/plain": [
       "['i am very grateful to him too.',\n",
       " 'there is no terror threat from india, not just terrorism.',\n",
       " 'bail is transported.',\n",
       " 'brothers, tell me, you tell me, who can eliminate this terrorism?',\n",
       " \"because no other group's right was seized.\",\n",
       " 'we are also going to make arrangements for this.',\n",
       " 'village-village has taken to the poor house.',\n",
       " 'my mother is blessing me from there.',\n",
       " 'who has seen this power by taking the biggest blow to terrorism and naxalism?',\n",
       " 'they will have to return one lump of the poor.',\n",
       " 'they will have to return one lump of the poor.',\n",
       " 'they will have to return one lump of the poor.',\n",
       " 'they will have to return one lump of the poor.',\n",
       " 'they will have to return one lump of the poor.',\n",
       " 'we are three in one.']"
      ]
     },
     "execution_count": 18,
     "metadata": {},
     "output_type": "execute_result"
    }
   ],
   "source": [
    "terror_match = difflib.get_close_matches('islamic terrorism', modi_sent_clean, n = 15, cutoff = 0.2)\n",
    "terror_match"
   ]
  },
  {
   "cell_type": "code",
   "execution_count": 21,
   "metadata": {},
   "outputs": [
    {
     "data": {
      "text/plain": [
       "['all farmers will get the benefit of it.',\n",
       " 'we are three in one.',\n",
       " 'have given.',\n",
       " 'have given.',\n",
       " 'i am very grateful to him too.',\n",
       " 'their government starts to run.',\n",
       " 'once again the modi government.',\n",
       " 'friends, be our small farmer, farm laborer, small shopkeeper.',\n",
       " 'who has seen?']"
      ]
     },
     "execution_count": 21,
     "metadata": {},
     "output_type": "execute_result"
    }
   ],
   "source": [
    "farmer_match = difflib.get_close_matches('farmers', modi_sent_clean, n = 15, cutoff = 0.2)\n",
    "farmer_match"
   ]
  }
 ],
 "metadata": {
  "kernelspec": {
   "display_name": "Python 3",
   "language": "python",
   "name": "python3"
  },
  "language_info": {
   "codemirror_mode": {
    "name": "ipython",
    "version": 3
   },
   "file_extension": ".py",
   "mimetype": "text/x-python",
   "name": "python",
   "nbconvert_exporter": "python",
   "pygments_lexer": "ipython3",
   "version": "3.7.0"
  }
 },
 "nbformat": 4,
 "nbformat_minor": 2
}
